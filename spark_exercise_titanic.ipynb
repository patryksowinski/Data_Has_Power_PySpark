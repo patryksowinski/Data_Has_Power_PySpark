{
 "cells": [
  {
   "cell_type": "markdown",
   "id": "9113a217-be6b-480f-91f7-cb0c7a4e2991",
   "metadata": {},
   "source": [
    "# Libraries downloading."
   ]
  },
  {
   "cell_type": "code",
   "execution_count": 1,
   "id": "314712ba-ee78-487e-99f8-dcd92edc89cf",
   "metadata": {},
   "outputs": [
    {
     "name": "stdout",
     "output_type": "stream",
     "text": [
      "Collecting mysql-connector-python\n",
      "  Downloading mysql_connector_python-8.0.28-cp39-cp39-manylinux1_x86_64.whl (37.6 MB)\n",
      "\u001b[2K     \u001b[90m━━━━━━━━━━━━━━━━━━━━━━━━━━━━━━━━━━━━━━━━\u001b[0m \u001b[32m37.6/37.6 MB\u001b[0m \u001b[31m1.8 MB/s\u001b[0m eta \u001b[36m0:00:00\u001b[0m00:01\u001b[0m00:01\u001b[0mm\n",
      "\u001b[?25hRequirement already satisfied: protobuf>=3.0.0 in /opt/conda/lib/python3.9/site-packages (from mysql-connector-python) (3.19.4)\n",
      "Installing collected packages: mysql-connector-python\n",
      "Successfully installed mysql-connector-python-8.0.28\n"
     ]
    }
   ],
   "source": [
    "!pip install mysql-connector-python"
   ]
  },
  {
   "cell_type": "code",
   "execution_count": 2,
   "id": "aaa057bd-d625-4f87-aafb-0bc6283c45d4",
   "metadata": {},
   "outputs": [
    {
     "name": "stdout",
     "output_type": "stream",
     "text": [
      "Collecting pymysql\n",
      "  Downloading PyMySQL-1.0.2-py3-none-any.whl (43 kB)\n",
      "\u001b[2K     \u001b[90m━━━━━━━━━━━━━━━━━━━━━━━━━━━━━━━━━━━━━━━\u001b[0m \u001b[32m43.8/43.8 KB\u001b[0m \u001b[31m926.7 kB/s\u001b[0m eta \u001b[36m0:00:00\u001b[0m \u001b[36m0:00:01\u001b[0m\n",
      "\u001b[?25hInstalling collected packages: pymysql\n",
      "Successfully installed pymysql-1.0.2\n"
     ]
    }
   ],
   "source": [
    "!pip install pymysql"
   ]
  },
  {
   "cell_type": "markdown",
   "id": "e3cf1953-340b-43a2-843f-ca5c634577a9",
   "metadata": {},
   "source": [
    "# Getting data."
   ]
  },
  {
   "cell_type": "code",
   "execution_count": 3,
   "id": "79f7e1eb-ce2b-4d71-8db5-55f8852bc174",
   "metadata": {},
   "outputs": [
    {
     "name": "stdout",
     "output_type": "stream",
     "text": [
      "--2022-03-05 12:00:45--  https://web.stanford.edu/class/archive/cs/cs109/cs109.1166/stuff/titanic.csv\n",
      "Resolving web.stanford.edu (web.stanford.edu)... 171.67.215.200, 2607:f6d0:0:925a::ab43:d7c8\n",
      "Connecting to web.stanford.edu (web.stanford.edu)|171.67.215.200|:443... connected.\n",
      "HTTP request sent, awaiting response... 200 OK\n",
      "Length: 44225 (43K) [text/csv]\n",
      "Saving to: ‘titanic.csv’\n",
      "\n",
      "titanic.csv         100%[===================>]  43.19K   218KB/s    in 0.2s    \n",
      "\n",
      "2022-03-05 12:00:46 (218 KB/s) - ‘titanic.csv’ saved [44225/44225]\n",
      "\n"
     ]
    }
   ],
   "source": [
    "!wget https://web.stanford.edu/class/archive/cs/cs109/cs109.1166/stuff/titanic.csv"
   ]
  },
  {
   "cell_type": "markdown",
   "id": "5ad49a0d-baf3-416d-8c36-55063abc8531",
   "metadata": {},
   "source": [
    "# Imports"
   ]
  },
  {
   "cell_type": "code",
   "execution_count": 7,
   "id": "be3a4f61-d9c7-4817-8c50-23fe157056c2",
   "metadata": {},
   "outputs": [],
   "source": [
    "import pandas as pd \n",
    "import numpy\n",
    "import matplotlib.pyplot as plt \n",
    "from pyspark.sql import SparkSession\n",
    "from pyspark.sql import functions as F\n",
    "import mysql.connector\n",
    "from mysql.connector import Error\n",
    "import sqlalchemy as db"
   ]
  },
  {
   "cell_type": "markdown",
   "id": "59a11914-6822-4c13-b438-981c3abc0161",
   "metadata": {},
   "source": [
    "# Spark initiation"
   ]
  },
  {
   "cell_type": "code",
   "execution_count": 8,
   "id": "122263d8-aa5a-40a3-8703-2bfb97ff268e",
   "metadata": {},
   "outputs": [],
   "source": [
    "# create sparksession\n",
    "spark = SparkSession \\\n",
    "    .builder \\\n",
    "    .appName(\"PySparkExercise\") \\\n",
    "    .config(\"spark.some.config.option\", \"some-value\") \\\n",
    "    .getOrCreate()"
   ]
  },
  {
   "cell_type": "code",
   "execution_count": 9,
   "id": "b80be279-9f20-41fa-8262-3b5d8e935d1b",
   "metadata": {},
   "outputs": [],
   "source": [
    "titanic_df = spark.read.csv('titanic.csv', header = 'True', inferSchema='True')"
   ]
  },
  {
   "cell_type": "code",
   "execution_count": 10,
   "id": "963fa50d-b0bf-4c52-9446-509dda638cbc",
   "metadata": {},
   "outputs": [
    {
     "name": "stdout",
     "output_type": "stream",
     "text": [
      "root\n",
      " |-- Survived: integer (nullable = true)\n",
      " |-- Pclass: integer (nullable = true)\n",
      " |-- Name: string (nullable = true)\n",
      " |-- Sex: string (nullable = true)\n",
      " |-- Age: double (nullable = true)\n",
      " |-- Siblings/Spouses Aboard: integer (nullable = true)\n",
      " |-- Parents/Children Aboard: integer (nullable = true)\n",
      " |-- Fare: double (nullable = true)\n",
      "\n"
     ]
    }
   ],
   "source": [
    "titanic_df.printSchema()"
   ]
  },
  {
   "cell_type": "code",
   "execution_count": 157,
   "id": "99e8c5b7-115b-4e7a-a747-ee0f989919a1",
   "metadata": {},
   "outputs": [],
   "source": [
    "titanic_df.createOrReplaceTempView(\"titanic_table\");"
   ]
  },
  {
   "cell_type": "code",
   "execution_count": 11,
   "id": "b54289e2-b07a-4501-aedc-6d0c8d05ea6e",
   "metadata": {},
   "outputs": [
    {
     "name": "stdout",
     "output_type": "stream",
     "text": [
      "+--------+------+--------------------+------+----+-----------------------+-----------------------+-------+\n",
      "|Survived|Pclass|                Name|   Sex| Age|Siblings/Spouses Aboard|Parents/Children Aboard|   Fare|\n",
      "+--------+------+--------------------+------+----+-----------------------+-----------------------+-------+\n",
      "|       0|     3|Mr. Owen Harris B...|  male|22.0|                      1|                      0|   7.25|\n",
      "|       1|     1|Mrs. John Bradley...|female|38.0|                      1|                      0|71.2833|\n",
      "|       1|     3|Miss. Laina Heikk...|female|26.0|                      0|                      0|  7.925|\n",
      "|       1|     1|Mrs. Jacques Heat...|female|35.0|                      1|                      0|   53.1|\n",
      "|       0|     3|Mr. William Henry...|  male|35.0|                      0|                      0|   8.05|\n",
      "+--------+------+--------------------+------+----+-----------------------+-----------------------+-------+\n",
      "only showing top 5 rows\n",
      "\n"
     ]
    }
   ],
   "source": [
    "titanic_df.show(5)"
   ]
  },
  {
   "cell_type": "markdown",
   "id": "324dd946-a857-48f7-a2ed-55633b384af0",
   "metadata": {},
   "source": [
    "# Exercises"
   ]
  },
  {
   "cell_type": "markdown",
   "id": "6a5cf691-8d4c-49cd-b8a4-9aad7eb67133",
   "metadata": {},
   "source": [
    "## 1."
   ]
  },
  {
   "cell_type": "code",
   "execution_count": 166,
   "id": "88742a87-1d3e-43b8-b9c4-cff8552261e6",
   "metadata": {},
   "outputs": [],
   "source": [
    "percent_of_children_who_stayed_alive = spark.sql(\"\"\"SELECT Round(100 * count(Name) / (SELECT count(Name)\n",
    "                                                                                      FROM titanic_table\n",
    "                                                                                      WHERE Age < 18), 2)\n",
    "                                                                                      AS perc_of_children_alive\n",
    "                                                    FROM titanic_table\n",
    "                                                    WHERE Age < 18\n",
    "                                                    AND Survived = 1\"\"\").collect()[0][0]"
   ]
  },
  {
   "cell_type": "markdown",
   "id": "a6f642ad-cbd2-45da-b2a5-a7ab796193c9",
   "metadata": {},
   "source": [
    "## 2."
   ]
  },
  {
   "cell_type": "code",
   "execution_count": 168,
   "id": "665de306-6b15-4397-b88c-e2cfc30791d3",
   "metadata": {},
   "outputs": [],
   "source": [
    "percent_of_adults_before_40_who_stayed_alive = spark.sql(\"\"\"SELECT Round(100 * count(Name) / (SELECT count(Name)\n",
    "                                                                                             FROM titanic_table\n",
    "                                                                                             WHERE Age >= 18\n",
    "                                                                                             AND Age <= 40), 2)\n",
    "                                                                                             AS perc_of_adults_alive\n",
    "                                                            FROM titanic_table\n",
    "                                                            WHERE Age >= 18\n",
    "                                                            AND Age <= 40\n",
    "                                                            AND Survived = 1\"\"\").collect()[0][0]"
   ]
  },
  {
   "cell_type": "markdown",
   "id": "17226832-9155-45a7-a2ad-b8ef1b99b551",
   "metadata": {},
   "source": [
    "## 3."
   ]
  },
  {
   "cell_type": "code",
   "execution_count": 170,
   "id": "e6a9e6ea-4ff8-4561-8d01-367bba3e773c",
   "metadata": {},
   "outputs": [],
   "source": [
    "adults_male_under_40 = titanic_df.select('Name')\\\n",
    "                                 .where((F.col('Age') <= 40) &\n",
    "                                        (F.col('Age') >= 18) &\n",
    "                                        (F.col('Sex') == 'male'))\\\n",
    "                                 .count()"
   ]
  },
  {
   "cell_type": "code",
   "execution_count": 171,
   "id": "4a6dcdbf-bdf9-47f4-ae6c-ef3f9afdbd9d",
   "metadata": {},
   "outputs": [],
   "source": [
    "adults_female_under_40 = titanic_df.select('Name')\\\n",
    "                                   .where((F.col('Age') <= 40) &\n",
    "                                          (F.col('Age') >= 18) &\n",
    "                                          (F.col('Sex') == 'female'))\\\n",
    "                                   .count()"
   ]
  },
  {
   "cell_type": "code",
   "execution_count": 172,
   "id": "028fd9df-d181-4b2d-a865-325be3227706",
   "metadata": {},
   "outputs": [],
   "source": [
    "adults_male_under_40_alive = titanic_df.select('Name')\\\n",
    "                                       .where((F.col('Age') <= 40) &\n",
    "                                              (F.col('Age') >= 18) &\n",
    "                                              (F.col('Sex') == 'male') &\n",
    "                                              (F.col('Survived') == 1))\\\n",
    "                                       .count()"
   ]
  },
  {
   "cell_type": "code",
   "execution_count": 174,
   "id": "656f0564-69a5-45a9-958e-391706d07878",
   "metadata": {},
   "outputs": [],
   "source": [
    "adults_female_under_40_alive = titanic_df.select('Name')\\\n",
    "                                         .where((F.col('Age') <= 40) &\n",
    "                                                (F.col('Age') >= 18) &\n",
    "                                                (F.col('Sex') == 'female') &\n",
    "                                                (F.col('Survived') == 1))\\\n",
    "                                         .count()"
   ]
  },
  {
   "cell_type": "code",
   "execution_count": 177,
   "id": "872e0a80-4f7c-4746-b8ac-197a992acd85",
   "metadata": {},
   "outputs": [],
   "source": [
    "percent_of_adults_male_under_40_alive = round(100 * adults_male_under_40_alive / adults_male_under_40, 2)"
   ]
  },
  {
   "cell_type": "code",
   "execution_count": 178,
   "id": "0acb053e-ae63-4853-80f4-a02746eaf2f0",
   "metadata": {},
   "outputs": [],
   "source": [
    "percent_of_adults_female_under_40_alive = round(100 * adults_female_under_40_alive / adults_female_under_40, 2)"
   ]
  },
  {
   "cell_type": "markdown",
   "id": "e7ce32aa-8d0d-447d-a3c4-6f2074944964",
   "metadata": {},
   "source": [
    "## 4."
   ]
  },
  {
   "cell_type": "code",
   "execution_count": 151,
   "id": "2385337f-c595-4d39-b567-a504c7afafa1",
   "metadata": {},
   "outputs": [],
   "source": [
    "number_of_adults_over_40 = spark.sql(\"\"\"SELECT Round(100 * count(Name) / (SELECT count(Name)\n",
    "                                                                          FROM mytable\n",
    "                                                                          WHERE Age > 40), 2) AS Percent_of_alive\n",
    "                                        FROM mytable\n",
    "                                        WHERE Age > 40\n",
    "                                        AND Survived = 1\"\"\").collect()[0][0]"
   ]
  },
  {
   "cell_type": "markdown",
   "id": "e0e4df72-bc17-4ec5-9ee1-ed2db784eb2d",
   "metadata": {},
   "source": [
    "## 5."
   ]
  },
  {
   "cell_type": "code",
   "execution_count": 188,
   "id": "28ea7a11-607b-4197-b836-21fcc6a06130",
   "metadata": {},
   "outputs": [],
   "source": [
    "adults_male_over_40 = titanic_df.select('Name')\\\n",
    "                                .where((F.col('Age') > 40) &\n",
    "                                      (F.col('Sex') == 'male'))\\\n",
    "                                .count()"
   ]
  },
  {
   "cell_type": "code",
   "execution_count": 189,
   "id": "0347dc2b-5156-4b27-839a-b3d73736cfa9",
   "metadata": {},
   "outputs": [],
   "source": [
    "adults_female_over_40 = titanic_df.select('Name')\\\n",
    "                                  .where((F.col('Age') > 40) &\n",
    "                                        (F.col('Sex') == 'female'))\\\n",
    "                                  .count()"
   ]
  },
  {
   "cell_type": "code",
   "execution_count": 190,
   "id": "7d1f8ce7-aa38-40ef-b178-86b4d7fe246c",
   "metadata": {},
   "outputs": [],
   "source": [
    "adults_male_over_40_alive = titanic_df.select('Name')\\\n",
    "                                      .where((F.col('Age') > 40) &\n",
    "                                             (F.col('Sex') == 'male') &\n",
    "                                             (F.col('Survived') == 1))\\\n",
    "                                      .count()"
   ]
  },
  {
   "cell_type": "code",
   "execution_count": 191,
   "id": "e9ec54af-c501-4c92-a089-f6ab352633ad",
   "metadata": {},
   "outputs": [],
   "source": [
    "adults_female_over_40_alive = titanic_df.select('Name')\\\n",
    "                                        .where((F.col('Age') > 40) &\n",
    "                                               (F.col('Sex') == 'female') &\n",
    "                                               (F.col('Survived') == 1))\\\n",
    "                                        .count()"
   ]
  },
  {
   "cell_type": "code",
   "execution_count": 192,
   "id": "20d1626e-159f-40a3-9adf-d8a4fbb5a457",
   "metadata": {},
   "outputs": [],
   "source": [
    "percent_of_adults_male_over_40_alive = round(100 * adults_male_over_40_alive / adults_male_over_40, 2)"
   ]
  },
  {
   "cell_type": "code",
   "execution_count": 193,
   "id": "f2799731-9b31-44fe-a3c2-421cb35eec19",
   "metadata": {},
   "outputs": [],
   "source": [
    "percent_of_adults_female_over_40_alive = round(100 * adults_female_over_40_alive / adults_female_over_40, 2)"
   ]
  },
  {
   "cell_type": "markdown",
   "id": "70159266-8654-4bee-aff8-60283262e0cb",
   "metadata": {},
   "source": [
    "## 6."
   ]
  },
  {
   "cell_type": "code",
   "execution_count": 194,
   "id": "f7b4f123-7437-46f0-8432-f9c94e629138",
   "metadata": {},
   "outputs": [],
   "source": [
    "number_of_male_class_1 = titanic_df.select('Name')\\\n",
    "                                   .where((F.col('Pclass') == 1) &\n",
    "                                          (F.col('Sex') == 'male'))\\\n",
    "                                   .count()"
   ]
  },
  {
   "cell_type": "code",
   "execution_count": 195,
   "id": "cc24200a-e24e-45a6-bd9b-987851530e91",
   "metadata": {},
   "outputs": [],
   "source": [
    "number_of_male_class_2 = titanic_df.select('Name')\\\n",
    "                                   .where((F.col('Pclass') == 2) &\n",
    "                                          (F.col('Sex') == 'male'))\\\n",
    "                                   .count()"
   ]
  },
  {
   "cell_type": "code",
   "execution_count": 196,
   "id": "2cf9afb6-2c11-4395-8914-b6352d61d46b",
   "metadata": {},
   "outputs": [],
   "source": [
    "number_of_male_class_3 = titanic_df.select('Name')\\\n",
    "                                   .where((F.col('Pclass') == 3) &\n",
    "                                          (F.col('Sex') == 'male'))\\\n",
    "                                   .count()"
   ]
  },
  {
   "cell_type": "code",
   "execution_count": 197,
   "id": "a6c5979a-56b9-4894-bd04-5da6b561f932",
   "metadata": {},
   "outputs": [],
   "source": [
    "number_of_male_class_1_alive = titanic_df.select('Name')\\\n",
    "                                         .where((F.col('Pclass') == 1) &\n",
    "                                                (F.col('Sex') == 'male') &\n",
    "                                                (F.col('Survived') == 1))\\\n",
    "                                         .count()"
   ]
  },
  {
   "cell_type": "code",
   "execution_count": 200,
   "id": "79301901-8680-420a-aeea-3b673a944abc",
   "metadata": {},
   "outputs": [],
   "source": [
    "number_of_male_class_2_alive = titanic_df.select('Name')\\\n",
    "                                         .where((F.col('Pclass') == 2) &\n",
    "                                                (F.col('Sex') == 'male') &\n",
    "                                                (F.col('Survived') == 1))\\\n",
    "                                         .count()"
   ]
  },
  {
   "cell_type": "code",
   "execution_count": 201,
   "id": "7b6f7223-bd7a-4e2f-9444-fe0a0f193ec7",
   "metadata": {},
   "outputs": [],
   "source": [
    "number_of_male_class_3_alive = titanic_df.select('Name')\\\n",
    "                                         .where((F.col('Pclass') == 3) &\n",
    "                                                (F.col('Sex') == 'male') &\n",
    "                                                (F.col('Survived') == 1))\\\n",
    "                                         .count()"
   ]
  },
  {
   "cell_type": "code",
   "execution_count": 202,
   "id": "b468ed2d-8637-4604-8271-c9376423321d",
   "metadata": {},
   "outputs": [],
   "source": [
    "number_of_female_class_1 = titanic_df.select('Name')\\\n",
    "                                     .where((F.col('Pclass') == 1) &\n",
    "                                            (F.col('Sex') == 'female'))\\\n",
    "                                     .count()"
   ]
  },
  {
   "cell_type": "code",
   "execution_count": 203,
   "id": "7254309d-2154-4717-b3a1-e76ad955932d",
   "metadata": {},
   "outputs": [],
   "source": [
    "number_of_female_class_2 = titanic_df.select('Name')\\\n",
    "                                     .where((F.col('Pclass') == 2) &\n",
    "                                            (F.col('Sex') == 'female'))\\\n",
    "                                     .count()"
   ]
  },
  {
   "cell_type": "code",
   "execution_count": 204,
   "id": "4f8084e7-b5ca-4d0d-ae97-c6ac3e614773",
   "metadata": {},
   "outputs": [],
   "source": [
    "number_of_female_class_3 = titanic_df.select('Name')\\\n",
    "                                     .where((F.col('Pclass') == 3) &\n",
    "                                            (F.col('Sex') == 'female'))\\\n",
    "                                     .count()"
   ]
  },
  {
   "cell_type": "code",
   "execution_count": 205,
   "id": "961dab79-bffa-45fc-bb88-c78315782b10",
   "metadata": {},
   "outputs": [],
   "source": [
    "number_of_female_class_1_alive = titanic_df.select('Name')\\\n",
    "                                           .where((F.col('Pclass') == 1) &\n",
    "                                                  (F.col('Sex') == 'female') &\n",
    "                                                  (F.col('Survived') == 1))\\\n",
    "                                           .count()"
   ]
  },
  {
   "cell_type": "code",
   "execution_count": 206,
   "id": "2556b326-cee4-40cb-9dd3-a2d6eb89ee61",
   "metadata": {},
   "outputs": [],
   "source": [
    "number_of_female_class_2_alive = titanic_df.select('Name')\\\n",
    "                                           .where((F.col('Pclass') == 2) &\n",
    "                                                  (F.col('Sex') == 'female') &\n",
    "                                                  (F.col('Survived') == 1))\\\n",
    "                                           .count()"
   ]
  },
  {
   "cell_type": "code",
   "execution_count": 207,
   "id": "198d300f-0238-44b7-ba2c-c42f5b4a8367",
   "metadata": {},
   "outputs": [],
   "source": [
    "number_of_female_class_3_alive = titanic_df.select('Name')\\\n",
    "                                           .where((F.col('Pclass') == 3) &\n",
    "                                                  (F.col('Sex') == 'female') &\n",
    "                                                  (F.col('Survived') == 1))\\\n",
    "                                           .count()"
   ]
  },
  {
   "cell_type": "code",
   "execution_count": 208,
   "id": "7f672310-a850-4075-b6ad-9d4ead0f32ab",
   "metadata": {},
   "outputs": [],
   "source": [
    "male_alive_class_1 = round(100 * number_of_male_class_1_alive / number_of_male_class_1, 2)"
   ]
  },
  {
   "cell_type": "code",
   "execution_count": 209,
   "id": "8e8e2062-5159-4edb-bb68-5d27f6a919f6",
   "metadata": {},
   "outputs": [],
   "source": [
    "male_alive_class_2 = round(100 * number_of_male_class_2_alive / number_of_male_class_2, 2)"
   ]
  },
  {
   "cell_type": "code",
   "execution_count": 210,
   "id": "219cdda0-bdaa-4973-a069-1a2f6870187b",
   "metadata": {},
   "outputs": [],
   "source": [
    "male_alive_class_3 = round(100 * number_of_male_class_1_alive / number_of_male_class_3, 2)"
   ]
  },
  {
   "cell_type": "code",
   "execution_count": 211,
   "id": "aa6f8e2f-dc81-4ee5-a2f9-596bcd94c68b",
   "metadata": {},
   "outputs": [],
   "source": [
    "female_alive_class_1 = round(100 * number_of_female_class_1_alive / number_of_female_class_1, 2)"
   ]
  },
  {
   "cell_type": "code",
   "execution_count": 212,
   "id": "cc7a118f-7be5-4123-abd4-2c0ee12d8769",
   "metadata": {},
   "outputs": [],
   "source": [
    "female_alive_class_2 = round(100 * number_of_female_class_2_alive / number_of_female_class_2, 2)"
   ]
  },
  {
   "cell_type": "code",
   "execution_count": 213,
   "id": "efc654a5-c1db-4c44-9c97-fe05308782b8",
   "metadata": {},
   "outputs": [],
   "source": [
    "female_alive_class_3 = round(100 * number_of_female_class_3_alive / number_of_female_class_3, 2)"
   ]
  },
  {
   "cell_type": "markdown",
   "id": "4e5bae7b-4345-43f2-acdc-a436555565f8",
   "metadata": {},
   "source": [
    "# Db connection."
   ]
  },
  {
   "cell_type": "code",
   "execution_count": null,
   "id": "c740b62e-a063-404f-af98-ddfd1a4e399f",
   "metadata": {},
   "outputs": [],
   "source": [
    "conn = mysql.connector.connect(\n",
    "  host=\"3306\",\n",
    "  user=\"root\",\n",
    "  password=\"pass\",\n",
    "  database=\"spark_results\"\n",
    ")"
   ]
  },
  {
   "cell_type": "code",
   "execution_count": null,
   "id": "24300848-90c9-4723-978e-174b7782b905",
   "metadata": {},
   "outputs": [],
   "source": [
    "mycursor = mydb.cursor()"
   ]
  },
  {
   "cell_type": "markdown",
   "id": "6bfc2526-52b8-4252-8c2b-6586f77399aa",
   "metadata": {},
   "source": [
    "# Inserting data"
   ]
  },
  {
   "cell_type": "code",
   "execution_count": null,
   "id": "3d3ba9b6-14c8-4e41-93d8-4c57bf16240b",
   "metadata": {},
   "outputs": [],
   "source": [
    "sql = \"INSERT INTO results (exercise_number, result, gender) VALUES (%s, %s)\"\n",
    "val = [\n",
    "  (1, percent_of_children_who_stayed_alive, 'None', 'all'),\n",
    "  (2, percent_of_adult_before_40_who_stayed_alive, 'None', 'all'),\n",
    "  (3, percent_of_adult_male_under_40_alive, 'male', 'all'),\n",
    "  (3, percent_of_adult_female_under_40_alive, 'female', 'all'),\n",
    "  (4, number_of_adults_over_40, 'None', 'all'),\n",
    "  (5, percent_of_adult_male_over_40_alive, 'male', 'all'),\n",
    "  (5, percent_of_adult_female_over_40_alive, 'female', 'all'),\n",
    "  (6, number_of_male_class_1, 'male', '1'),\n",
    "  (6, number_of_male_class_2, 'male', '2'),\n",
    "  (6, number_of_male_class_3, 'male', '3'),\n",
    "  (6, number_of_female_class_1, 'male', '1'),\n",
    "  (6, number_of_female_class_2, 'female', '2'),\n",
    "  (6, number_of_female_class_3, 'female', '3'),\n",
    "]"
   ]
  },
  {
   "cell_type": "code",
   "execution_count": null,
   "id": "845e9510-0d8c-4d50-89ae-122dd9b1e1ac",
   "metadata": {},
   "outputs": [],
   "source": [
    "mycursor.executemany(sql, val)"
   ]
  },
  {
   "cell_type": "code",
   "execution_count": null,
   "id": "319a73b8-ae93-4805-bb44-609aa3c072ca",
   "metadata": {},
   "outputs": [],
   "source": [
    "mydb.commit()"
   ]
  },
  {
   "cell_type": "code",
   "execution_count": null,
   "id": "bb85a6c4-2cee-46ab-b55e-010d4ac8c1d0",
   "metadata": {},
   "outputs": [],
   "source": [
    "conn.close()"
   ]
  }
 ],
 "metadata": {
  "kernelspec": {
   "display_name": "Python 3 (ipykernel)",
   "language": "python",
   "name": "python3"
  },
  "language_info": {
   "codemirror_mode": {
    "name": "ipython",
    "version": 3
   },
   "file_extension": ".py",
   "mimetype": "text/x-python",
   "name": "python",
   "nbconvert_exporter": "python",
   "pygments_lexer": "ipython3",
   "version": "3.9.7"
  }
 },
 "nbformat": 4,
 "nbformat_minor": 5
}
